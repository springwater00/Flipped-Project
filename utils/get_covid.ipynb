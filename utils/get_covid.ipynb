{
 "cells": [
  {
   "cell_type": "code",
   "execution_count": 5,
   "metadata": {},
   "outputs": [
    {
     "name": "stderr",
     "output_type": "stream",
     "text": [
      "c:\\Users\\user00\\miniconda3\\envs\\tfdml\\lib\\site-packages\\bs4\\builder\\__init__.py:545: XMLParsedAsHTMLWarning: It looks like you're parsing an XML document using an HTML parser. If this really is an HTML document (maybe it's XHTML?), you can ignore or filter this warning. If it's XML, you should know that using an XML parser will be more reliable. To parse this document as XML, make sure you have the lxml package installed, and pass the keyword argument `features=\"xml\"` into the BeautifulSoup constructor.\n",
      "  warnings.warn(\n"
     ]
    }
   ],
   "source": [
    "#외부데이터 - 코로나 사용\n",
    "#코로나 데이터는 공공데이터 포털에 있는 '보건복지부 코로나19 감염 현황＇ 을 사용함\n",
    "#아래 코드를 이용하여 불러왔으며, 불러온 데이터를 엑셀 파일로 저장하여 엑셀에서 수정하여 사용하였음.\n",
    "import requests\n",
    "from bs4 import BeautifulSoup as bs\n",
    "from urllib import parse\n",
    "from datetime import datetime\n",
    "import pandas as pd\n",
    "today = datetime.now().strftime('%Y%m%d')   \n",
    "\n",
    "serviceKey = 'RY8GwXEX5npt3x%2F4E6PWiOZmTFyd4IZBbmw5NtJtE4Jt8sQ2JvGO849mBoLwVGnThJ%2BlMv9PWs3DsFKtkluvww%3D%3D'  \n",
    "params = {'ServiceKey':parse.unquote(serviceKey),   \n",
    "            'startCreateDt':20200201,\n",
    "            'endCreateDt':20210228}   \n",
    "\n",
    "url = 'http://openapi.data.go.kr/openapi/service/rest/Covid19/getCovid19InfStateJson'\n",
    "\n",
    "res = requests.get(url, params=params)\n",
    "soup = bs(res.text, 'lxml')\n",
    "response = {'seq': '고유번호',\n",
    "              'statedt': '기준일',\n",
    "              'statetime': '기준시간',\n",
    "              'decidecnt': '확진자',\n",
    "              'clearcnt': '격리해제',\n",
    "              'examcnt': '검사진행',\n",
    "              'deathcnt': '사망자',\n",
    "              'carecnt': '치료중',\n",
    "              'resutlnegcnt': '음성',\n",
    "              'accexamcnt': '누적검사',\n",
    "              'accexamcompcnt': '누적검사완료',\n",
    "              'accdefrate': '누적확진률',\n",
    "              'createdt': '등록일시',\n",
    "              'updatedt': '수정'}\n",
    "\n",
    "items = soup.find_all('item')\n",
    "\n",
    "dic1 = dict(covid19=[])\n",
    "\n",
    "for item in items:\n",
    "    dic = {}\n",
    "    for x in item:\n",
    "        if x.name in set(response):\n",
    "            dic[x.name] = x.text\n",
    "    dic1['covid19'].append(dic)\n",
    "\n",
    "#xml을 dictionary로 바꿔 리스트 원소로 추가\n",
    "lst = []\n",
    "for y in items:\n",
    "    l = {}\n",
    "    for x in y:\n",
    "        l[x.name] = x.text\n",
    "    lst.append(l)\n",
    "lst\n",
    "\n",
    "df = pd.DataFrame(lst)\n",
    "df.columns = df.columns.map(response)\n",
    "df.to_csv('covid19.csv')"
   ]
  }
 ],
 "metadata": {
  "kernelspec": {
   "display_name": "tfdml",
   "language": "python",
   "name": "python3"
  },
  "language_info": {
   "codemirror_mode": {
    "name": "ipython",
    "version": 3
   },
   "file_extension": ".py",
   "mimetype": "text/x-python",
   "name": "python",
   "nbconvert_exporter": "python",
   "pygments_lexer": "ipython3",
   "version": "3.9.15"
  },
  "orig_nbformat": 4,
  "vscode": {
   "interpreter": {
    "hash": "15d54980d3bbc4e22dd06be68bd77491a0e069480ad9c7f9a5e4e20602a63928"
   }
  }
 },
 "nbformat": 4,
 "nbformat_minor": 2
}
